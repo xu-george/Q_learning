{
 "cells": [
  {
   "cell_type": "raw",
   "source": [
    "A note book to show the behavior clone for the DQN learning\n"
   ],
   "metadata": {
    "collapsed": false
   }
  },
  {
   "cell_type": "code",
   "execution_count": 2,
   "outputs": [],
   "source": [
    "import numpy as np\n",
    "from env.dis_one_joint import ArmEnv\n",
    "from utils.util import ReplayMemory as ExpertMemory\n",
    "from utils.DQN import ReplayMemory, DQN, DQN_Agent\n",
    "import torch\n",
    "from matplotlib import pyplot as plt\n",
    "import matplotlib\n",
    "%matplotlib inline\n",
    "# if gpu is to be used\n",
    "device = torch.device(\"cuda\" if torch.cuda.is_available() else \"cpu\")\n",
    "\n",
    "is_ipython = 'inline' in matplotlib.get_backend()\n",
    "if is_ipython:\n",
    "    from IPython import display\n",
    "plt.ion()"
   ],
   "metadata": {
    "collapsed": false
   }
  },
  {
   "cell_type": "raw",
   "source": [
    "load expert demonstration"
   ],
   "metadata": {
    "collapsed": false
   }
  },
  {
   "cell_type": "code",
   "execution_count": 3,
   "outputs": [
    {
     "name": "stdout",
     "output_type": "stream",
     "text": [
      "Loading buffer from ../checkpoints/buffer_one_joint_500_\n",
      "The length of trajectory 500\n",
      "The length of steps 8057\n"
     ]
    }
   ],
   "source": [
    "EP_LEN = 500\n",
    "expert_len = 50  # number of demonstration\n",
    "env = ArmEnv(ep_len=EP_LEN)\n",
    "obs_dim = env.observation_space\n",
    "action_dim = env.action_dim\n",
    "seed = 112\n",
    "\n",
    "# load replay buffer -- state, action, reward, next_state, done\n",
    "expert_buffer = ExpertMemory(seed=seed, capacity=expert_len*EP_LEN)\n",
    "expert_buffer.load_buffer(f\"../checkpoints/buffer_one_joint_{EP_LEN}_\")\n",
    "print(\"The length of trajectory %d\" %(len(expert_buffer.start_idx)-1))\n",
    "print(\"The length of steps %d\" %(len(expert_buffer)))"
   ],
   "metadata": {
    "collapsed": false
   }
  },
  {
   "cell_type": "raw",
   "source": [
    "show visit time"
   ],
   "metadata": {
    "collapsed": false
   }
  },
  {
   "cell_type": "code",
   "execution_count": 4,
   "outputs": [
    {
     "data": {
      "text/plain": "<Figure size 432x288 with 3 Axes>",
      "image/png": "[encoded data removed]"
     },
     "metadata": {
      "needs_background": "light"
     },
     "output_type": "display_data"
    },
    {
     "data": {
      "text/plain": "<Figure size 360x360 with 2 Axes>",
      "image/png": "[encoded data removed]"
     },
     "metadata": {
      "needs_background": "light"
     },
     "output_type": "display_data"
    }
   ],
   "source": [
    "visit_time = np.zeros((obs_dim + [action_dim]))\n",
    "len_traj = len(expert_buffer.buffer)\n",
    "\n",
    "for i in range(len_traj):\n",
    "    state = expert_buffer.buffer[i][0]\n",
    "    action = expert_buffer.buffer[i][1]\n",
    "    visit_time[state[0], state[1], action] +=1\n",
    "\n",
    "fig, (ax1, ax2) = plt.subplots(1, 2)\n",
    "fig.suptitle('Visited time of (s,a)')\n",
    "im1 = ax1.pcolormesh(visit_time[:, :, 0])\n",
    "im2 = ax2.pcolormesh(visit_time[:, :, 1])\n",
    "\n",
    "fig.subplots_adjust(bottom=0.1, top=0.9, left=0.1, right=0.8,\n",
    "                    wspace=0.2, hspace=0.02)\n",
    "cb_ax = fig.add_axes([0.83, 0.1, 0.02, 0.8])\n",
    "cbar = fig.colorbar(im1, cax=cb_ax)\n",
    "\n",
    "fig = plt.figure(figsize=(5, 5))\n",
    "plt.title('state visit time')\n",
    "s_visit_time = visit_time.sum(axis=2)\n",
    "plt.pcolormesh(s_visit_time)\n",
    "cb_ax = fig.add_axes([1, 0.1, 0.02, 0.8])\n",
    "cbar = fig.colorbar(im1, cax=cb_ax)"
   ],
   "metadata": {
    "collapsed": false
   }
  },
  {
   "cell_type": "raw",
   "source": [
    "Check the replay buffer by play back"
   ],
   "metadata": {
    "collapsed": false
   }
  },
  {
   "cell_type": "code",
   "execution_count": 17,
   "outputs": [],
   "source": [
    "for traj_num in range(5):\n",
    "    init_index = expert_buffer.start_idx[traj_num]\n",
    "    init_state = expert_buffer.buffer[init_index+1][0]\n",
    "    env.reset(init_state)\n",
    "    env.render()\n",
    "\n",
    "    while init_index < expert_buffer.start_idx[traj_num+1]:\n",
    "        action = expert_buffer.buffer[init_index][1]\n",
    "        env.step(action)\n",
    "        env.render()\n",
    "        init_index += 1"
   ],
   "metadata": {
    "collapsed": false
   }
  },
  {
   "cell_type": "raw",
   "source": [
    "Initialize the DQN"
   ],
   "metadata": {
    "collapsed": false
   }
  },
  {
   "cell_type": "code",
   "execution_count": 20,
   "outputs": [
    {
     "name": "stdout",
     "output_type": "stream",
     "text": [
      "len obs_dim: 2 action_dim: 2\n"
     ]
    }
   ],
   "source": [
    "env = ArmEnv(ep_len=EP_LEN, scale=True)\n",
    "obs_dim = env.observation_space\n",
    "action_dim = env.action_dim\n",
    "print(\"len obs_dim: %d\" %len(obs_dim), \"action_dim: %d\" %action_dim)\n",
    "\n",
    "memory = ReplayMemory(int(1e4))"
   ],
   "metadata": {
    "collapsed": false
   }
  },
  {
   "cell_type": "raw",
   "source": [
    "Fill the memory with expert memory"
   ],
   "metadata": {
    "collapsed": false
   }
  },
  {
   "cell_type": "code",
   "execution_count": 21,
   "outputs": [],
   "source": [
    "for steps in range(len(expert_buffer)):\n",
    "    state = expert_buffer.buffer[steps][0]/env.space_length\n",
    "    action = expert_buffer.buffer[steps][1]\n",
    "    reward = expert_buffer.buffer[steps][2]\n",
    "    next_state = expert_buffer.buffer[steps][3]/env.space_length\n",
    "\n",
    "    state = torch.tensor(state, dtype=torch.float32, device=device).unsqueeze(0)\n",
    "    action = torch.tensor([action], dtype=torch.int64, device=device).unsqueeze(0)\n",
    "    reward = torch.tensor([reward], dtype=torch.float32, device=device)\n",
    "    next_state = torch.tensor(next_state, dtype=torch.float32, device=device).unsqueeze(0)\n",
    "    memory.push(state, action, next_state, reward)"
   ],
   "metadata": {
    "collapsed": false
   }
  },
  {
   "cell_type": "code",
   "execution_count": 26,
   "outputs": [],
   "source": [
    "BATCH_SIZE = len(memory)\n",
    "GAMMA = 0.9\n",
    "EPS_START = 0.5\n",
    "EPS_END = 0.05\n",
    "EPS_DECAY = 1000\n",
    "TAU = 0.005\n",
    "LR = 1e-2\n",
    "Hidden_size = 64\n",
    "\n",
    "Q_net = DQN(len(obs_dim), action_dim, Hidden_size).to(device)\n",
    "Q_target_net = DQN(len(obs_dim), action_dim, Hidden_size).to(device)\n",
    "\n",
    "Agent = DQN_Agent(env=env, buffer=memory, Q_net=Q_net, Q_target_net=Q_target_net,\n",
    "                  batch_size=BATCH_SIZE, gamma=GAMMA, EPS_START=EPS_START,\n",
    "                  EPS_END=EPS_END, EPS_DECAY=EPS_DECAY, TAU=0.05, LR=LR, device=device)"
   ],
   "metadata": {
    "collapsed": false
   }
  },
  {
   "cell_type": "code",
   "execution_count": 27,
   "outputs": [],
   "source": [
    "def plot_data(reward, show_result=False, ylabel=\"reward\"):\n",
    "    plt.figure(1)\n",
    "    if show_result:\n",
    "        plt.title('Result')\n",
    "    else:\n",
    "        plt.clf()\n",
    "        plt.title('Training...')\n",
    "    plt.xlabel('Episode')\n",
    "    plt.ylabel(ylabel)\n",
    "    plt.plot(reward)\n",
    "\n",
    "    if len(reward) >= 50:\n",
    "        means = np.convolve(reward, np.ones(50), 'valid') / 50\n",
    "        means = np.concatenate((np.zeros(50), means))\n",
    "        plt.plot(means)\n",
    "\n",
    "    if is_ipython:\n",
    "        if not show_result:\n",
    "            display.display(plt.gcf())\n",
    "            display.clear_output(wait=True)\n",
    "\n",
    "        else:\n",
    "            display.display(plt.gcf())"
   ],
   "metadata": {
    "collapsed": false
   }
  },
  {
   "cell_type": "raw",
   "source": [
    "Initial the neural network (offline training)"
   ],
   "metadata": {
    "collapsed": false
   }
  },
  {
   "cell_type": "code",
   "execution_count": 29,
   "outputs": [
    {
     "data": {
      "text/plain": "<Figure size 432x288 with 1 Axes>",
      "image/png": "[encoded data removed]"
     },
     "metadata": {
      "needs_background": "light"
     },
     "output_type": "display_data"
    }
   ],
   "source": [
    "update_times = 50\n",
    "loss_list = []\n",
    "for update_time in range(update_times):\n",
    "    loss = Agent.optimize_model()\n",
    "    Agent.update_target_net()\n",
    "    loss_list.append(loss)\n",
    "    plot_data(loss_list, ylabel=\"loss\")"
   ],
   "metadata": {
    "collapsed": false
   }
  },
  {
   "cell_type": "code",
   "execution_count": 30,
   "outputs": [
    {
     "name": "stdout",
     "output_type": "stream",
     "text": [
      "(50, 50, 2)\n"
     ]
    }
   ],
   "source": [
    "# DQN_table\n",
    "obs_dim_shape= env.observation_space\n",
    "BC_DQN_table = np.zeros((obs_dim_shape + [action_dim]))\n",
    "print(BC_DQN_table.shape)\n",
    "\n",
    "# get batch of state\n",
    "for i in range(obs_dim_shape[0]):\n",
    "    for j in range(obs_dim_shape[1]):\n",
    "        state = np.array((i, j)) / env.space_length\n",
    "        state = torch.tensor(state, dtype=torch.float32, device=device).unsqueeze(0)\n",
    "\n",
    "        with torch.no_grad():\n",
    "            value = Agent.target_net(state)[0]\n",
    "            BC_DQN_table[i,j,:] = value.detach().cpu().numpy()"
   ],
   "metadata": {
    "collapsed": false
   }
  },
  {
   "cell_type": "raw",
   "source": [
    "plot Q table, and decision map"
   ],
   "metadata": {
    "collapsed": false
   }
  },
  {
   "cell_type": "code",
   "execution_count": 31,
   "outputs": [
    {
     "data": {
      "text/plain": "Text(0, 0.5, 'point_angle')"
     },
     "execution_count": 31,
     "metadata": {},
     "output_type": "execute_result"
    },
    {
     "data": {
      "text/plain": "<Figure size 432x288 with 3 Axes>",
      "image/png": "[encoded data removed]"
     },
     "metadata": {
      "needs_background": "light"
     },
     "output_type": "display_data"
    },
    {
     "data": {
      "text/plain": "<Figure size 360x360 with 2 Axes>",
      "image/png": "[encoded data removed]"
     },
     "metadata": {
      "needs_background": "light"
     },
     "output_type": "display_data"
    }
   ],
   "source": [
    "fig, (ax1, ax2) = plt.subplots(1, 2)\n",
    "fig.suptitle('Q Table')\n",
    "im1 = ax1.pcolormesh(BC_DQN_table[:, :, 0])\n",
    "im2 = ax2.pcolormesh(BC_DQN_table[:, :, 1])\n",
    "\n",
    "fig.subplots_adjust(bottom=0.1, top=0.9, left=0.1, right=0.8,\n",
    "                    wspace=0.2, hspace=0.02)\n",
    "cb_ax = fig.add_axes([0.83, 0.1, 0.02, 0.8])\n",
    "cbar = fig.colorbar(im1, cax=cb_ax)\n",
    "\n",
    "plt.xlabel('arm_angle')\n",
    "plt.ylabel('point_angle')\n",
    "\n",
    "fig = plt.figure(figsize=(5, 5))\n",
    "plt.title('Decision map')\n",
    "max_decision = np.argmax(BC_DQN_table, axis=2)\n",
    "im = plt.pcolormesh(max_decision)\n",
    "cbar = fig.colorbar(im)\n",
    "plt.xlabel('arm_angle')\n",
    "plt.ylabel('point_angle')"
   ],
   "metadata": {
    "collapsed": false
   }
  },
  {
   "cell_type": "code",
   "execution_count": null,
   "outputs": [],
   "source": [],
   "metadata": {
    "collapsed": false
   }
  }
 ],
 "metadata": {
  "kernelspec": {
   "display_name": "Python 3",
   "language": "python",
   "name": "python3"
  },
  "language_info": {
   "codemirror_mode": {
    "name": "ipython",
    "version": 2
   },
   "file_extension": ".py",
   "mimetype": "text/x-python",
   "name": "python",
   "nbconvert_exporter": "python",
   "pygments_lexer": "ipython2",
   "version": "2.7.6"
  }
 },
 "nbformat": 4,
 "nbformat_minor": 0
}
