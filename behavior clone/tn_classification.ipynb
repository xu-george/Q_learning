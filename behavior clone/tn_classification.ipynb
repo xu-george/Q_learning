{
 "cells": [
  {
   "cell_type": "raw",
   "source": [
    "The simple code to show the classification of tn for the Q table"
   ],
   "metadata": {
    "collapsed": false
   }
  },
  {
   "cell_type": "code",
   "execution_count": 2,
   "outputs": [],
   "source": [
    "import numpy as np\n",
    "from env.dis_one_joint import ArmEnv\n",
    "from utils.util import ReplayMemory\n",
    "from matplotlib import pyplot as plt\n",
    "import tntorch as tn\n",
    "import torch\n",
    "torch.set_default_dtype(torch.float64)\n",
    "%matplotlib inline"
   ],
   "metadata": {
    "collapsed": false
   }
  },
  {
   "cell_type": "raw",
   "source": [
    "Load expert trajectory"
   ],
   "metadata": {
    "collapsed": false
   }
  },
  {
   "cell_type": "code",
   "execution_count": 5,
   "outputs": [
    {
     "name": "stdout",
     "output_type": "stream",
     "text": [
      "Loading buffer from ../checkpoints/buffer_one_joint_500_\n",
      "The length of trajectory 500\n",
      "The length of steps 8057\n"
     ]
    }
   ],
   "source": [
    "EP_LEN = 50\n",
    "expert_len = 50  # number of demonstration\n",
    "env = ArmEnv(ep_len=EP_LEN)\n",
    "obs_dim = env.observation_space\n",
    "action_dim = env.action_dim\n",
    "seed = 112\n",
    "\n",
    "# load replay buffer -- state, action, reward, next_state, done\n",
    "expert_buffer = ReplayMemory(seed=seed, capacity=expert_len*EP_LEN)\n",
    "expert_buffer.load_buffer(f\"../checkpoints/buffer_one_joint_{EP_LEN}_\")\n",
    "print(\"The length of trajectory %d\" %(len(expert_buffer.start_idx)-1))\n",
    "print(\"The length of steps %d\" %(len(expert_buffer)))"
   ],
   "metadata": {
    "collapsed": false
   }
  },
  {
   "cell_type": "raw",
   "source": [
    "Plot visited decision map (-1 not visited, 0 action 1, 1 action 1)"
   ],
   "metadata": {
    "collapsed": false
   }
  },
  {
   "cell_type": "code",
   "execution_count": 6,
   "outputs": [
    {
     "data": {
      "text/plain": "<Figure size 360x360 with 2 Axes>",
      "image/png": "[encoded data removed]"
     },
     "metadata": {
      "needs_background": "light"
     },
     "output_type": "display_data"
    }
   ],
   "source": [
    "visit_action = np.zeros((obs_dim + [action_dim]))\n",
    "len_traj = len(expert_buffer.buffer)\n",
    "\n",
    "for i in range(len_traj):\n",
    "    state = expert_buffer.buffer[i][0]\n",
    "    action = expert_buffer.buffer[i][1]\n",
    "    visit_action[state[0], state[1], action] +=1\n",
    "\n",
    "unvisited_state = np.where(visit_action.sum(axis=2)==0)\n",
    "\n",
    "# using the maximum visited time action as the selected action\n",
    "best_action_map = np.argmax(visit_action, axis=2)\n",
    "\n",
    "best_action_map[unvisited_state] = -1\n",
    "\n",
    "fig = plt.figure(figsize=(5, 5))\n",
    "plt.title('action map')\n",
    "img1 = plt.pcolormesh(best_action_map)\n",
    "cb_ax = fig.add_axes([1, 0.1, 0.02, 0.8])\n",
    "cbar = fig.colorbar(img1, cax=cb_ax)"
   ],
   "metadata": {
    "collapsed": false
   }
  },
  {
   "cell_type": "raw",
   "source": [
    "Gnerate the trainning data set for classification"
   ],
   "metadata": {
    "collapsed": false
   }
  },
  {
   "cell_type": "code",
   "execution_count": 7,
   "outputs": [
    {
     "name": "stdout",
     "output_type": "stream",
     "text": [
      "the length of the training set is 1599\n"
     ]
    }
   ],
   "source": [
    "state_act1 = np.argwhere(best_action_map==0)\n",
    "act1 = np.zeros(len(state_act1))\n",
    "state_act2 = np.argwhere(best_action_map==1)\n",
    "act2 = np.ones(len(state_act2))\n",
    "\n",
    "train_state = np.concatenate((state_act1, state_act2), axis=0)\n",
    "train_action = np.concatenate((act1, act2), axis=0)\n",
    "print(\"the length of the training set is %d\" %len(train_state))\n",
    "\n",
    "idx = np.random.permutation(len(train_state))\n",
    "train_state = torch.tensor(train_state[idx]).long()\n",
    "train_action = torch.tensor(train_action[idx]).long()"
   ],
   "metadata": {
    "collapsed": false
   }
  },
  {
   "cell_type": "raw",
   "source": [
    "Approximate this policy using tn net"
   ],
   "metadata": {
    "collapsed": false
   }
  },
  {
   "cell_type": "code",
   "execution_count": 8,
   "outputs": [
    {
     "data": {
      "text/plain": "3D TT-Tucker tensor:\n\n 50  50   2\n  |   |   |\n  6   6   6\n (0) (1) (2)\n / \\ / \\ / \\\n1   10  10  1"
     },
     "execution_count": 8,
     "metadata": {},
     "output_type": "execute_result"
    }
   ],
   "source": [
    "N = 2\n",
    "t = tn.rand(obs_dim + [action_dim], ranks_tt=10, ranks_tucker=6, requires_grad=True)\n",
    "t.set_factors('dct', dim=range(N))\n",
    "t"
   ],
   "metadata": {
    "collapsed": false
   }
  },
  {
   "cell_type": "code",
   "execution_count": 9,
   "outputs": [
    {
     "name": "stdout",
     "output_type": "stream",
     "text": [
      "iter: 0       | loss:   0.775723 | total time:    0.0682\n",
      "iter: 500     | loss:   0.089441 | total time:    0.8821\n",
      "iter: 1000    | loss:   0.032270 | total time:    1.5898\n",
      "iter: 1500    | loss:   0.021904 | total time:    2.2371\n",
      "iter: 2000    | loss:   0.017826 | total time:    2.9079\n",
      "iter: 2500    | loss:   0.015894 | total time:    3.6218\n",
      "iter: 3000    | loss:   0.014875 | total time:    4.3013\n",
      "iter: 3022    | loss:   0.014842 | total time:    4.3309 <- converged (tol=0.0001)\n"
     ]
    }
   ],
   "source": [
    "def softmax(x):\n",
    "    expx = torch.exp(x-x.max())\n",
    "    return expx / torch.sum(expx, dim=-1, keepdim=True)\n",
    "\n",
    "def cross_entropy_loss(probs, y):\n",
    "    return torch.mean(-torch.log(probs[np.arange(len(probs)), y]))\n",
    "\n",
    "def loss(t):\n",
    "    return cross_entropy_loss(softmax(t[train_state].torch()), train_action)\n",
    "\n",
    "tn.optimize(t, loss)"
   ],
   "metadata": {
    "collapsed": false
   }
  },
  {
   "cell_type": "raw",
   "source": [
    "Show the decision map"
   ],
   "metadata": {
    "collapsed": false
   }
  },
  {
   "cell_type": "code",
   "execution_count": 11,
   "outputs": [
    {
     "data": {
      "text/plain": "<Figure size 360x360 with 2 Axes>",
      "image/png": "[encoded data removed]"
     },
     "metadata": {
      "needs_background": "light"
     },
     "output_type": "display_data"
    }
   ],
   "source": [
    "fig = plt.figure(figsize=(5, 5))\n",
    "plt.title('Training set')\n",
    "plt.imshow(softmax(t.torch())[..., 0].detach().numpy().T, origin='lower', cmap='RdBu')"
   ],
   "metadata": {
    "collapsed": false
   }
  },
  {
   "cell_type": "raw",
   "source": [
    "Compare with basic nn"
   ],
   "metadata": {
    "collapsed": false
   }
  },
  {
   "cell_type": "code",
   "execution_count": null,
   "outputs": [],
   "source": [],
   "metadata": {
    "collapsed": false
   }
  }
 ],
 "metadata": {
  "kernelspec": {
   "display_name": "Python 3",
   "language": "python",
   "name": "python3"
  },
  "language_info": {
   "codemirror_mode": {
    "name": "ipython",
    "version": 2
   },
   "file_extension": ".py",
   "mimetype": "text/x-python",
   "name": "python",
   "nbconvert_exporter": "python",
   "pygments_lexer": "ipython2",
   "version": "2.7.6"
  }
 },
 "nbformat": 4,
 "nbformat_minor": 0
}
